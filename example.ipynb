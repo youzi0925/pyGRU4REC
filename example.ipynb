{
 "cells": [
  {
   "cell_type": "markdown",
   "metadata": {},
   "source": [
    "# Load the Data & Train on a small subset"
   ]
  },
  {
   "cell_type": "code",
   "execution_count": 10,
   "metadata": {
    "ExecuteTime": {
     "end_time": "2018-02-27T22:25:36.070715Z",
     "start_time": "2018-02-27T22:25:25.615253Z"
    }
   },
   "outputs": [],
   "source": [
    "import pandas as pd\n",
    "import numpy as np\n",
    "from pathlib import Path\n",
    "from modules.data import SessionDataset\n",
    "\n",
    "PATH_HOME = Path.home()\n",
    "PATH_PROJ = PATH_HOME/'pyGRU4REC' \n",
    "PATH_DATA = 'data/'\n",
    "PATH_MODEL = PATH_PROJ/'models'\n",
    "train = 'train.tsv'\n",
    "test = 'test.tsv'\n",
    "PATH_TRAIN = PATH_DATA + train\n",
    "PATH_TEST = PATH_DATA + test\n",
    "n_samples = -1\n",
    "n_samples = 100000\n",
    "train_dataset = SessionDataset(PATH_TRAIN, n_samples=n_samples)\n",
    "test_dataset = SessionDataset(PATH_TEST, n_samples=n_samples, itemmap=train_dataset.itemmap)"
   ]
  },
  {
   "cell_type": "markdown",
   "metadata": {},
   "source": [
    "Train on a small subset of data"
   ]
  },
  {
   "cell_type": "code",
   "execution_count": 11,
   "metadata": {},
   "outputs": [
    {
     "ename": "RuntimeError",
     "evalue": "Error attempting to use dtype torch.float32 with layout torch.strided and device type CUDA.  Torch not compiled with CUDA enabled.\n",
     "output_type": "error",
     "traceback": [
      "\u001b[1;31m---------------------------------------------------------------------------\u001b[0m",
      "\u001b[1;31mRuntimeError\u001b[0m                              Traceback (most recent call last)",
      "\u001b[1;32m<ipython-input-11-e0b75c73e946>\u001b[0m in \u001b[0;36m<module>\u001b[1;34m()\u001b[0m\n\u001b[0;32m     30\u001b[0m                 \u001b[0meps\u001b[0m\u001b[1;33m=\u001b[0m\u001b[0meps\u001b[0m\u001b[1;33m,\u001b[0m\u001b[1;33m\u001b[0m\u001b[0m\n\u001b[0;32m     31\u001b[0m                 \u001b[0mloss_type\u001b[0m\u001b[1;33m=\u001b[0m\u001b[0mloss_type\u001b[0m\u001b[1;33m,\u001b[0m\u001b[1;33m\u001b[0m\u001b[0m\n\u001b[1;32m---> 32\u001b[1;33m                 use_cuda=use_cuda)\n\u001b[0m\u001b[0;32m     33\u001b[0m \u001b[1;33m\u001b[0m\u001b[0m\n\u001b[0;32m     34\u001b[0m \u001b[0mmodel_name\u001b[0m \u001b[1;33m=\u001b[0m \u001b[1;34m'GRU4REC'\u001b[0m\u001b[1;33m\u001b[0m\u001b[0m\n",
      "\u001b[1;32mE:\\pycharm-workspace\\pyGRU4REC\\modules\\model.py\u001b[0m in \u001b[0;36m__init__\u001b[1;34m(self, input_size, hidden_size, output_size, num_layers, optimizer_type, lr, weight_decay, momentum, eps, loss_type, clip_grad, dropout_input, dropout_hidden, batch_size, use_cuda, time_sort, pretrained)\u001b[0m\n\u001b[0;32m     51\u001b[0m                            \u001b[0mdropout_hidden\u001b[0m\u001b[1;33m=\u001b[0m\u001b[0mdropout_hidden\u001b[0m\u001b[1;33m,\u001b[0m\u001b[1;33m\u001b[0m\u001b[0m\n\u001b[0;32m     52\u001b[0m                            \u001b[0mbatch_size\u001b[0m\u001b[1;33m=\u001b[0m\u001b[0mbatch_size\u001b[0m\u001b[1;33m,\u001b[0m\u001b[1;33m\u001b[0m\u001b[0m\n\u001b[1;32m---> 53\u001b[1;33m                            use_cuda=use_cuda)\n\u001b[0m\u001b[0;32m     54\u001b[0m         \u001b[1;32melse\u001b[0m\u001b[1;33m:\u001b[0m\u001b[1;33m\u001b[0m\u001b[0m\n\u001b[0;32m     55\u001b[0m             \u001b[0mself\u001b[0m\u001b[1;33m.\u001b[0m\u001b[0mgru\u001b[0m \u001b[1;33m=\u001b[0m \u001b[0mpretrained\u001b[0m\u001b[1;33m\u001b[0m\u001b[0m\n",
      "\u001b[1;32mE:\\pycharm-workspace\\pyGRU4REC\\modules\\layer.py\u001b[0m in \u001b[0;36m__init__\u001b[1;34m(self, input_size, hidden_size, output_size, num_layers, dropout_hidden, dropout_input, batch_size, use_cuda)\u001b[0m\n\u001b[0;32m     34\u001b[0m         \u001b[0mself\u001b[0m\u001b[1;33m.\u001b[0m\u001b[0mdevice\u001b[0m \u001b[1;33m=\u001b[0m \u001b[0mtorch\u001b[0m\u001b[1;33m.\u001b[0m\u001b[0mdevice\u001b[0m\u001b[1;33m(\u001b[0m\u001b[1;34m'cuda'\u001b[0m \u001b[1;32mif\u001b[0m \u001b[0muse_cuda\u001b[0m \u001b[1;32melse\u001b[0m \u001b[1;34m'cpu'\u001b[0m\u001b[1;33m)\u001b[0m\u001b[1;33m\u001b[0m\u001b[0m\n\u001b[0;32m     35\u001b[0m \u001b[1;33m\u001b[0m\u001b[0m\n\u001b[1;32m---> 36\u001b[1;33m         \u001b[0mself\u001b[0m\u001b[1;33m.\u001b[0m\u001b[0monehot_buffer\u001b[0m \u001b[1;33m=\u001b[0m \u001b[0mself\u001b[0m\u001b[1;33m.\u001b[0m\u001b[0minit_emb\u001b[0m\u001b[1;33m(\u001b[0m\u001b[1;33m)\u001b[0m  \u001b[1;31m# the buffer where the one-hot encodings will be produced from\u001b[0m\u001b[1;33m\u001b[0m\u001b[0m\n\u001b[0m\u001b[0;32m     37\u001b[0m         \u001b[0mself\u001b[0m\u001b[1;33m.\u001b[0m\u001b[0mh2o\u001b[0m \u001b[1;33m=\u001b[0m \u001b[0mnn\u001b[0m\u001b[1;33m.\u001b[0m\u001b[0mLinear\u001b[0m\u001b[1;33m(\u001b[0m\u001b[0mhidden_size\u001b[0m\u001b[1;33m,\u001b[0m \u001b[0moutput_size\u001b[0m\u001b[1;33m)\u001b[0m\u001b[1;33m\u001b[0m\u001b[0m\n\u001b[0;32m     38\u001b[0m         \u001b[0mself\u001b[0m\u001b[1;33m.\u001b[0m\u001b[0mtanh\u001b[0m \u001b[1;33m=\u001b[0m \u001b[0mnn\u001b[0m\u001b[1;33m.\u001b[0m\u001b[0mTanh\u001b[0m\u001b[1;33m(\u001b[0m\u001b[1;33m)\u001b[0m\u001b[1;33m\u001b[0m\u001b[0m\n",
      "\u001b[1;32mE:\\pycharm-workspace\\pyGRU4REC\\modules\\layer.py\u001b[0m in \u001b[0;36minit_emb\u001b[1;34m(self)\u001b[0m\n\u001b[0;32m     78\u001b[0m         '''\n\u001b[0;32m     79\u001b[0m         \u001b[0monehot_buffer\u001b[0m \u001b[1;33m=\u001b[0m \u001b[0mtorch\u001b[0m\u001b[1;33m.\u001b[0m\u001b[0mFloatTensor\u001b[0m\u001b[1;33m(\u001b[0m\u001b[0mself\u001b[0m\u001b[1;33m.\u001b[0m\u001b[0mbatch_size\u001b[0m\u001b[1;33m,\u001b[0m \u001b[0mself\u001b[0m\u001b[1;33m.\u001b[0m\u001b[0moutput_size\u001b[0m\u001b[1;33m)\u001b[0m\u001b[1;33m\u001b[0m\u001b[0m\n\u001b[1;32m---> 80\u001b[1;33m         \u001b[0monehot_buffer\u001b[0m \u001b[1;33m=\u001b[0m \u001b[0monehot_buffer\u001b[0m\u001b[1;33m.\u001b[0m\u001b[0mto\u001b[0m\u001b[1;33m(\u001b[0m\u001b[0mself\u001b[0m\u001b[1;33m.\u001b[0m\u001b[0mdevice\u001b[0m\u001b[1;33m)\u001b[0m\u001b[1;33m\u001b[0m\u001b[0m\n\u001b[0m\u001b[0;32m     81\u001b[0m \u001b[1;33m\u001b[0m\u001b[0m\n\u001b[0;32m     82\u001b[0m         \u001b[1;32mreturn\u001b[0m \u001b[0monehot_buffer\u001b[0m\u001b[1;33m\u001b[0m\u001b[0m\n",
      "\u001b[1;31mRuntimeError\u001b[0m: Error attempting to use dtype torch.float32 with layout torch.strided and device type CUDA.  Torch not compiled with CUDA enabled.\n"
     ]
    }
   ],
   "source": [
    "from modules.model import GRU4REC\n",
    "import torch\n",
    "\n",
    "input_size = len(train_dataset.items)\n",
    "hidden_size = 100\n",
    "num_layers = 1\n",
    "output_size = input_size\n",
    "batch_size = 50\n",
    "\n",
    "optimizer_type = 'Adagrad'\n",
    "lr = .01\n",
    "weight_decay = 0\n",
    "momentum = 0\n",
    "eps = 1e-6\n",
    "\n",
    "loss_type = 'TOP1'\n",
    "\n",
    "n_epochs = 10\n",
    "use_cuda = True\n",
    "\n",
    "torch.manual_seed(7)\n",
    "\n",
    "model = GRU4REC(input_size, hidden_size, output_size,\n",
    "                num_layers=num_layers,\n",
    "                batch_size=batch_size,\n",
    "                optimizer_type=optimizer_type,\n",
    "                lr=lr,\n",
    "                weight_decay=weight_decay,\n",
    "                momentum=momentum,\n",
    "                eps=eps,\n",
    "                loss_type=loss_type,\n",
    "                use_cuda=use_cuda)\n",
    "\n",
    "model_name = 'GRU4REC'\n",
    "model.train(train_dataset, n_epochs=n_epochs, model_name=model_name, save=False)\n",
    "model.test(test_dataset)"
   ]
  },
  {
   "cell_type": "markdown",
   "metadata": {},
   "source": [
    "# Full Training"
   ]
  },
  {
   "cell_type": "code",
   "execution_count": null,
   "metadata": {
    "ExecuteTime": {
     "end_time": "2018-02-27T05:29:50.087721Z",
     "start_time": "2018-02-27T05:29:37.345345Z"
    },
    "collapsed": true
   },
   "outputs": [],
   "source": [
    "from pathlib import Path\n",
    "import pandas as pd\n",
    "import numpy as np\n",
    "import torch\n",
    "from modules.data import SessionDataset\n",
    "from modules.model import GRU4REC\n",
    "\n",
    "\n",
    "PATH_HOME = Path.home()\n",
    "PATH_PROJ = PATH_HOME/'pyGRU4REC' \n",
    "PATH_DATA = PATH_PROJ/'data'\n",
    "PATH_MODEL = PATH_PROJ/'models'\n",
    "train = 'train.tsv'\n",
    "test = 'test.tsv'\n",
    "PATH_TRAIN = PATH_DATA / train\n",
    "PATH_TEST = PATH_DATA / test\n",
    "\n",
    "train_dataset = SessionDataset(PATH_TRAIN)\n",
    "test_dataset = SessionDataset(PATH_TEST, itemmap=train_dataset.itemmap)\n",
    "\n",
    "input_size = len(train_dataset.items)\n",
    "hidden_size = 100\n",
    "num_layers = 1\n",
    "output_size = input_size\n",
    "batch_size = 50\n",
    "\n",
    "optimizer_type = 'Adagrad'\n",
    "lr = .01\n",
    "weight_decay = 0\n",
    "momentum = 0\n",
    "eps = 1e-6\n",
    "\n",
    "loss_type = 'TOP1'\n",
    "\n",
    "n_epochs = 10\n",
    "use_cuda = True\n",
    "\n",
    "torch.manual_seed(7)\n",
    "\n",
    "model = GRU4REC(input_size, hidden_size, output_size,\n",
    "                num_layers=num_layers,\n",
    "                batch_size=batch_size,\n",
    "                optimizer_type=optimizer_type,\n",
    "                lr=lr,\n",
    "                weight_decay=weight_decay,\n",
    "                momentum=momentum,\n",
    "                eps=eps,\n",
    "                loss_type=loss_type,\n",
    "                use_cuda=use_cuda)\n",
    "\n",
    "model_name = 'GRU4REC'\n",
    "model.train(train_dataset, n_epochs=n_epochs, model_name=model_name, save=False)\n",
    "model.test(test_dataset)"
   ]
  },
  {
   "cell_type": "markdown",
   "metadata": {},
   "source": [
    "## Evaluate using the trained models"
   ]
  },
  {
   "cell_type": "code",
   "execution_count": 3,
   "metadata": {
    "ExecuteTime": {
     "end_time": "2018-02-27T05:44:13.202111Z",
     "start_time": "2018-02-27T05:44:05.731675Z"
    },
    "collapsed": true
   },
   "outputs": [],
   "source": [
    "from pathlib import Path\n",
    "from modules.data import SessionDataset\n",
    "\n",
    "PATH_HOME = Path.home()\n",
    "PATH_PROJ = PATH_HOME/'pyGRU4REC' \n",
    "PATH_DATA = PATH_PROJ/'data'\n",
    "PATH_MODEL = PATH_PROJ/'models'\n",
    "train = 'train.tsv'\n",
    "test = 'test.tsv'\n",
    "PATH_TRAIN = PATH_DATA / train\n",
    "PATH_TEST = PATH_DATA / test\n",
    "train_dataset = SessionDataset(PATH_TRAIN)\n",
    "test_dataset = SessionDataset(PATH_TEST, itemmap=train_dataset.itemmap)"
   ]
  },
  {
   "cell_type": "markdown",
   "metadata": {},
   "source": [
    "## 1.Load the Common Parameters"
   ]
  },
  {
   "cell_type": "code",
   "execution_count": 4,
   "metadata": {
    "ExecuteTime": {
     "end_time": "2018-02-27T05:44:13.441073Z",
     "start_time": "2018-02-27T05:44:13.316621Z"
    },
    "collapsed": true
   },
   "outputs": [],
   "source": [
    "import torch\n",
    "from modules.layer import GRU\n",
    "from modules.model import GRU4REC\n",
    "\n",
    "input_size = len(train_dataset.items)\n",
    "output_size = input_size\n",
    "hidden_size = 100\n",
    "num_layers = 1\n",
    "\n",
    "use_cuda = True\n",
    "time_sort = False\n",
    "\n",
    "optimizer_type = 'Adagrad'"
   ]
  },
  {
   "cell_type": "markdown",
   "metadata": {},
   "source": [
    "## 2. Evaluation(TOP1 Loss)"
   ]
  },
  {
   "cell_type": "code",
   "execution_count": 5,
   "metadata": {},
   "outputs": [
    {
     "name": "stderr",
     "output_type": "stream",
     "text": [
      "/usr/local/anaconda3/lib/python3.6/site-packages/torch/nn/modules/rnn.py:38: UserWarning: dropout option adds dropout after all but last recurrent layer, so non-zero dropout expects num_layers greater than 1, but got dropout=0.5 and num_layers=1\n",
      "  \"num_layers={}\".format(dropout, num_layers))\n"
     ]
    },
    {
     "name": "stdout",
     "output_type": "stream",
     "text": [
      "Test result: loss:0.857/recall:0.628/mrr:0.264/time:0.033\n"
     ]
    }
   ],
   "source": [
    "model_name = 'GRU4REC_TOP1_Adagrad_0.01_epoch5'\n",
    "model_file = PATH_MODEL/model_name\n",
    "\n",
    "loss_type = 'TOP1'\n",
    "lr = 0.01\n",
    "\n",
    "dropout_hidden = .5\n",
    "dropout_input = 0\n",
    "batch_size = 50\n",
    "momentum = 0\n",
    "\n",
    "gru = GRU(input_size, hidden_size, output_size,\n",
    "          num_layers = num_layers,\n",
    "          dropout_input = dropout_input,\n",
    "          dropout_hidden = dropout_hidden,\n",
    "          batch_size = batch_size,\n",
    "          use_cuda = use_cuda)\n",
    "\n",
    "gru.load_state_dict(torch.load(model_file))\n",
    "\n",
    "model = GRU4REC(input_size, hidden_size, output_size,\n",
    "                num_layers = num_layers,\n",
    "                dropout_input = dropout_input,\n",
    "                dropout_hidden = dropout_hidden,\n",
    "                batch_size = batch_size,\n",
    "                use_cuda = use_cuda,\n",
    "                loss_type = loss_type,\n",
    "                optimizer_type = optimizer_type,\n",
    "                lr=lr,\n",
    "                momentum=momentum,\n",
    "                time_sort=time_sort,\n",
    "                pretrained=gru)\n",
    "\n",
    "k = 20\n",
    "model.test(test_dataset, k=k)"
   ]
  },
  {
   "cell_type": "markdown",
   "metadata": {},
   "source": [
    "## 3. Evaluation(BPR Loss)"
   ]
  },
  {
   "cell_type": "code",
   "execution_count": 6,
   "metadata": {},
   "outputs": [
    {
     "name": "stderr",
     "output_type": "stream",
     "text": [
      "/usr/local/anaconda3/lib/python3.6/site-packages/torch/nn/modules/rnn.py:38: UserWarning: dropout option adds dropout after all but last recurrent layer, so non-zero dropout expects num_layers greater than 1, but got dropout=0.2 and num_layers=1\n",
      "  \"num_layers={}\".format(dropout, num_layers))\n"
     ]
    },
    {
     "name": "stdout",
     "output_type": "stream",
     "text": [
      "Test result: loss:0.289/recall:0.599/mrr:0.239/time:0.032\n"
     ]
    }
   ],
   "source": [
    "model_name = 'GRU4REC_BPR_Adagrad_0.05_epoch5'\n",
    "model_file = PATH_MODEL/model_name\n",
    "\n",
    "loss_type = 'BPR'\n",
    "lr = 0.05\n",
    "\n",
    "dropout_hidden = .2\n",
    "dropout_input = 0\n",
    "batch_size = 50\n",
    "momentum = 0.2\n",
    "\n",
    "gru = GRU(input_size, hidden_size, output_size,\n",
    "          num_layers = num_layers,\n",
    "          dropout_input = dropout_input,\n",
    "          dropout_hidden = dropout_hidden,\n",
    "          batch_size = batch_size,\n",
    "          use_cuda = use_cuda)\n",
    "\n",
    "gru.load_state_dict(torch.load(model_file))\n",
    "\n",
    "model = GRU4REC(input_size, hidden_size, output_size,\n",
    "                num_layers = num_layers,\n",
    "                dropout_input = dropout_input,\n",
    "                dropout_hidden = dropout_hidden,\n",
    "                batch_size = batch_size,\n",
    "                use_cuda = use_cuda,\n",
    "                loss_type = loss_type,\n",
    "                optimizer_type = optimizer_type,\n",
    "                lr=lr,\n",
    "                momentum=momentum,\n",
    "                time_sort=time_sort,\n",
    "                pretrained=gru)\n",
    "\n",
    "k = 20\n",
    "model.test(test_dataset, k=k)"
   ]
  },
  {
   "cell_type": "markdown",
   "metadata": {},
   "source": [
    "## 4. Evaluation(CrossEntropyLoss)"
   ]
  },
  {
   "cell_type": "code",
   "execution_count": 7,
   "metadata": {},
   "outputs": [
    {
     "name": "stdout",
     "output_type": "stream",
     "text": [
      "Test result: loss:5.051/recall:0.620/mrr:0.254/time:0.013\n"
     ]
    }
   ],
   "source": [
    "model_name = 'GRU4REC_CrossEntropy_Adagrad_0.01_epoch5'\n",
    "model_file = PATH_MODEL/model_name\n",
    "\n",
    "loss_type = 'CrossEntropy'\n",
    "lr = 0.01\n",
    "\n",
    "dropout_hidden = 0\n",
    "dropout_input = 0\n",
    "batch_size = 500\n",
    "momentum = 0\n",
    "\n",
    "gru = GRU(input_size, hidden_size, output_size,\n",
    "          num_layers = num_layers,\n",
    "          dropout_input = dropout_input,\n",
    "          dropout_hidden = dropout_hidden,\n",
    "          batch_size = batch_size,\n",
    "          use_cuda = use_cuda)\n",
    "\n",
    "gru.load_state_dict(torch.load(model_file))\n",
    "\n",
    "model = GRU4REC(input_size, hidden_size, output_size,\n",
    "                num_layers = num_layers,\n",
    "                dropout_input = dropout_input,\n",
    "                dropout_hidden = dropout_hidden,\n",
    "                batch_size = batch_size,\n",
    "                use_cuda = use_cuda,\n",
    "                loss_type = loss_type,\n",
    "                optimizer_type = optimizer_type,\n",
    "                lr=lr,\n",
    "                momentum=momentum,\n",
    "                time_sort=time_sort,\n",
    "                pretrained=gru)\n",
    "\n",
    "k = 20\n",
    "model.test(test_dataset, k=k)"
   ]
  }
 ],
 "metadata": {
  "kernelspec": {
   "display_name": "Python 3",
   "language": "python",
   "name": "python3"
  },
  "language_info": {
   "codemirror_mode": {
    "name": "ipython",
    "version": 3
   },
   "file_extension": ".py",
   "mimetype": "text/x-python",
   "name": "python",
   "nbconvert_exporter": "python",
   "pygments_lexer": "ipython3",
   "version": "3.6.1"
  },
  "latex_envs": {
   "LaTeX_envs_menu_present": true,
   "autoclose": false,
   "autocomplete": true,
   "bibliofile": "biblio.bib",
   "cite_by": "apalike",
   "current_citInitial": 1,
   "eqLabelWithNumbers": true,
   "eqNumInitial": 1,
   "hotkeys": {
    "equation": "Ctrl-E",
    "itemize": "Ctrl-I"
   },
   "labels_anchors": false,
   "latex_user_defs": false,
   "report_style_numbering": false,
   "user_envs_cfg": false
  },
  "varInspector": {
   "cols": {
    "lenName": 16,
    "lenType": 16,
    "lenVar": 40
   },
   "kernels_config": {
    "python": {
     "delete_cmd_postfix": "",
     "delete_cmd_prefix": "del ",
     "library": "var_list.py",
     "varRefreshCmd": "print(var_dic_list())"
    },
    "r": {
     "delete_cmd_postfix": ") ",
     "delete_cmd_prefix": "rm(",
     "library": "var_list.r",
     "varRefreshCmd": "cat(var_dic_list()) "
    }
   },
   "position": {
    "height": "761px",
    "left": "1497px",
    "right": "20px",
    "top": "121px",
    "width": "354px"
   },
   "types_to_exclude": [
    "module",
    "function",
    "builtin_function_or_method",
    "instance",
    "_Feature"
   ],
   "window_display": false
  }
 },
 "nbformat": 4,
 "nbformat_minor": 1
}
